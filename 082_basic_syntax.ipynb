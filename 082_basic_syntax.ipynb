{
 "cells": [
  {
   "cell_type": "markdown",
   "id": "7ab93354",
   "metadata": {},
   "source": [
    "### Step 1 : Hello ML Summer School"
   ]
  },
  {
   "cell_type": "code",
   "execution_count": 2,
   "id": "5adeb988",
   "metadata": {},
   "outputs": [
    {
     "name": "stdout",
     "output_type": "stream",
     "text": [
      "Hello, ML082\n"
     ]
    }
   ],
   "source": [
    "print(\"Hello, ML082\")"
   ]
  },
  {
   "cell_type": "markdown",
   "id": "78a64000",
   "metadata": {},
   "source": [
    "### Step 2 : Variables"
   ]
  },
  {
   "cell_type": "code",
   "execution_count": 3,
   "id": "a2742411",
   "metadata": {},
   "outputs": [
    {
     "name": "stdout",
     "output_type": "stream",
     "text": [
      "My name is:\n",
      "Phoo\n",
      "My age is: 25\n"
     ]
    }
   ],
   "source": [
    "name = \"Phoo\"\n",
    "age = 25\n",
    "print(\"My name is:\")\n",
    "print(name)\n",
    "\n",
    "print(\"My age is:\",end=\" \")\n",
    "print(age)"
   ]
  },
  {
   "cell_type": "markdown",
   "id": "e52edf19",
   "metadata": {},
   "source": [
    "### Step 3 : Input"
   ]
  },
  {
   "cell_type": "code",
   "execution_count": 4,
   "id": "b003fca8",
   "metadata": {},
   "outputs": [
    {
     "name": "stdout",
     "output_type": "stream",
     "text": [
      "What is your name?\n",
      "Hello, phoo!\n"
     ]
    }
   ],
   "source": [
    "# Ask the user for their name and store it in the 'user_name' variable\n",
    "print(\"What is your name?\")\n",
    "user_name = input()\n",
    "\n",
    "\n",
    "print(\"Hello, \" + user_name + \"!\")"
   ]
  },
  {
   "cell_type": "markdown",
   "id": "a6324681",
   "metadata": {},
   "source": [
    "### "
   ]
  },
  {
   "cell_type": "markdown",
   "id": "e1ea1b45",
   "metadata": {},
   "source": [
    "### Step 4 : If/Else"
   ]
  },
  {
   "cell_type": "code",
   "execution_count": 6,
   "id": "f6f498f2",
   "metadata": {},
   "outputs": [
    {
     "name": "stdout",
     "output_type": "stream",
     "text": [
      "What is the secret password?\n",
      "Correct! The treasure chest opens!\n",
      "The program is over.\n"
     ]
    }
   ],
   "source": [
    "print(\"What is the secret password?\")\n",
    "password = input()\n",
    "\n",
    "if password == \"wai\":\n",
    "\n",
    "  print(\"Correct! The treasure chest opens!\")\n",
    "else:\n",
    "\n",
    "  print(\"Sorry, wrong password!\")\n",
    "\n",
    "print(\"The program is over.\")"
   ]
  },
  {
   "cell_type": "markdown",
   "id": "bd2159f8",
   "metadata": {},
   "source": [
    "### Step 5: Loops"
   ]
  },
  {
   "cell_type": "code",
   "execution_count": 7,
   "id": "0a549a2f",
   "metadata": {},
   "outputs": [
    {
     "name": "stdout",
     "output_type": "stream",
     "text": [
      "I will count to 4:\n",
      "0\n",
      "1\n",
      "2\n",
      "3\n",
      "4\n",
      "-----------\n",
      "My favorite things are:\n",
      "I like robots\n",
      "I like pizza\n",
      "I like video games\n"
     ]
    }
   ],
   "source": [
    "print(\"I will count to 4:\")\n",
    "# For loop\n",
    "for number in range(5):\n",
    "  print(number)\n",
    "\n",
    "print(\"-----------\")\n",
    "\n",
    "\n",
    "print(\"My favorite things are:\")\n",
    "my_list = [\"robots\", \"pizza\", \"video games\"]\n",
    "# For each loop\n",
    "for thing in my_list:\n",
    "  print(\"I like \" + thing)"
   ]
  },
  {
   "cell_type": "markdown",
   "id": "ad21655e",
   "metadata": {},
   "source": [
    "### Step 6: Some Useful Data Types"
   ]
  },
  {
   "cell_type": "code",
   "execution_count": 8,
   "id": "88b55a6e",
   "metadata": {},
   "outputs": [
    {
     "name": "stdout",
     "output_type": "stream",
     "text": [
      "['mp[', 'phoo', 'phoo']\n"
     ]
    }
   ],
   "source": [
    "name_list = []\n",
    "\n",
    "\n",
    "name = input(\"What is your name?\").lower()\n",
    "\n",
    "while name != \"wai\":\n",
    "    name_list.append(name)\n",
    "    name = input(\"What is your name?\").lower()\n",
    "print(name_list)\n"
   ]
  },
  {
   "cell_type": "code",
   "execution_count": 9,
   "id": "456207c5",
   "metadata": {},
   "outputs": [
    {
     "name": "stdout",
     "output_type": "stream",
     "text": [
      "{'phoo', 'woman in ai', 'ml082'}\n"
     ]
    }
   ],
   "source": [
    "name_list = set()\n",
    "name = input(\"What is your name?\").lower()\n",
    "\n",
    "while name != \"wai\":\n",
    "    name_list.add(name)\n",
    "    name = input(\"What is your name?\").lower()\n",
    "print(name_list)"
   ]
  },
  {
   "cell_type": "markdown",
   "id": "427131e9",
   "metadata": {},
   "source": [
    "### Step 7: Try/Except"
   ]
  },
  {
   "cell_type": "code",
   "execution_count": 10,
   "id": "a93b06d8",
   "metadata": {},
   "outputs": [
    {
     "name": "stdout",
     "output_type": "stream",
     "text": [
      "I've thought of a number between 1 and 10. Try to guess it!\n",
      "You got it! The number was 8. You win!\n"
     ]
    }
   ],
   "source": [
    "import random\n",
    "secret_number = random.randint(1, 10)\n",
    "print(\"I've thought of a number between 1 and 10. Try to guess it!\")\n",
    "\n",
    "while True:\n",
    "  try:\n",
    "\n",
    "    guess = int(input(\"Your guess: \"))\n",
    "\n",
    "    if guess < secret_number:\n",
    "      print(\"Too low!\")\n",
    "    elif guess > secret_number:\n",
    "      print(\"Too high!\")\n",
    "    else:\n",
    "      print(f\"You got it! The number was {secret_number}. You win!\")\n",
    "      break\n",
    "\n",
    "  except ValueError:\n",
    "    # This runs ONLY IF the 'try' block had a ValueError (like typing text)\n",
    "    print(\"Oops! That's not a number. Please enter a number.\")\n"
   ]
  },
  {
   "cell_type": "markdown",
   "id": "914f2e18",
   "metadata": {},
   "source": [
    "### Step 8: Complex Decisions (and, or , not)"
   ]
  },
  {
   "cell_type": "code",
   "execution_count": 11,
   "id": "d3584326",
   "metadata": {},
   "outputs": [
    {
     "name": "stdout",
     "output_type": "stream",
     "text": [
      "Age: 14, Has Parent Permission: False\n",
      "Sorry, you can't see the movie.\n",
      "\n",
      "Is it the weekend? True. Is it sunny? False\n",
      "It's a good day to play outside!\n"
     ]
    }
   ],
   "source": [
    "age = 14\n",
    "has_permission = False\n",
    "\n",
    "print(f\"Age: {age}, Has Parent Permission: {has_permission}\")\n",
    "\n",
    "\n",
    "if age >= 13 and has_permission == True:\n",
    "  print(\"You can see the movie!\")\n",
    "else:\n",
    "  print(\"Sorry, you can't see the movie.\")\n",
    "\n",
    "is_weekend = True\n",
    "is_sunny = False\n",
    "print(f\"\\nIs it the weekend? {is_weekend}. Is it sunny? {is_sunny}\")\n",
    "\n",
    "if is_weekend or is_sunny:\n",
    "  print(\"It's a good day to play outside!\")\n",
    "else:\n",
    "  print(\"Maybe stay inside today.\")"
   ]
  },
  {
   "cell_type": "markdown",
   "id": "3343a924",
   "metadata": {},
   "source": [
    "### Step 9: Decorator : Manual Way"
   ]
  },
  {
   "cell_type": "code",
   "execution_count": 12,
   "id": "cd59d31e",
   "metadata": {},
   "outputs": [
    {
     "name": "stdout",
     "output_type": "stream",
     "text": [
      "Hello, @ML_Summar School\n",
      "---------------------\n",
      "Check Type :  <class 'function'>\n",
      "✨✨✨✨✨✨✨✨✨✨\n",
      "Hello, @ML_Summar School\n",
      "✨✨✨✨✨✨✨✨✨✨\n",
      "---------------------\n",
      "✨✨✨✨✨✨✨✨✨✨\n",
      "Hello, @ML_Summar School\n",
      "✨✨✨✨✨✨✨✨✨✨\n"
     ]
    }
   ],
   "source": [
    "def my_shiny_wrapper(function_to_wrap):\n",
    "    def the_wrapper():\n",
    "        print(\"✨✨✨✨✨✨✨✨✨✨\") \n",
    "        function_to_wrap()       \n",
    "        print(\"✨✨✨✨✨✨✨✨✨✨\")\n",
    "\n",
    "    return the_wrapper\n",
    "  \n",
    "def test_method():\n",
    "    print(\"Hello, @ML_Summar School\")\n",
    "\n",
    "test_method()\n",
    "print(\"---------------------\")\n",
    "\n",
    "wraper_method = my_shiny_wrapper(test_method)\n",
    "print(\"Check Type : \",type(wraper_method))\n",
    "wraper_method()\n",
    "\n",
    "\n",
    "print(\"---------------------\")\n",
    "my_shiny_wrapper(test_method)()"
   ]
  },
  {
   "cell_type": "markdown",
   "id": "c22354f4",
   "metadata": {},
   "source": [
    "### Step 9: Decorator : Shortcut"
   ]
  },
  {
   "cell_type": "code",
   "execution_count": 13,
   "id": "6eed0a8a",
   "metadata": {},
   "outputs": [
    {
     "name": "stdout",
     "output_type": "stream",
     "text": [
      "✨✨✨✨✨✨✨✨✨✨\n",
      "This is shortcut wrapper function\n",
      "✨✨✨✨✨✨✨✨✨✨\n"
     ]
    }
   ],
   "source": [
    "@my_shiny_wrapper\n",
    "def wrapper_test():\n",
    "    print(\"This is shortcut wrapper function\")\n",
    "\n",
    "\n",
    "wrapper_test()"
   ]
  },
  {
   "cell_type": "code",
   "execution_count": 14,
   "id": "a67087f5",
   "metadata": {},
   "outputs": [
    {
     "name": "stdout",
     "output_type": "stream",
     "text": [
      "Image prediction method is running...\n",
      "(This method took 3.01 seconds)\n",
      "Generate text method is running...\n",
      "(This method took 1.01 seconds)\n"
     ]
    }
   ],
   "source": [
    "## Real world usage in ML production\n",
    "\n",
    "import time\n",
    "def predict_time_decorator(function_to_wrap):\n",
    "\n",
    "    def wrapper():\n",
    "        start_time = time.time()\n",
    "        function_to_wrap()\n",
    "        end_time = time.time()\n",
    "        print(f\"(This method took {end_time - start_time:.2f} seconds)\")\n",
    "    return wrapper\n",
    "\n",
    "@predict_time_decorator\n",
    "def predict_image():\n",
    "    print(\"Image prediction method is running...\")\n",
    "    time.sleep(3)\n",
    "\n",
    "\n",
    "\n",
    "@predict_time_decorator\n",
    "def generate_text():\n",
    "    print(\"Generate text method is running...\")\n",
    "    time.sleep(1)\n",
    "\n",
    "\n",
    "predict_image()\n",
    "\n",
    "generate_text()"
   ]
  },
  {
   "cell_type": "code",
   "execution_count": null,
   "id": "b9916a3c",
   "metadata": {},
   "outputs": [],
   "source": []
  }
 ],
 "metadata": {
  "kernelspec": {
   "display_name": "ML082_phoo",
   "language": "python",
   "name": "python3"
  },
  "language_info": {
   "codemirror_mode": {
    "name": "ipython",
    "version": 3
   },
   "file_extension": ".py",
   "mimetype": "text/x-python",
   "name": "python",
   "nbconvert_exporter": "python",
   "pygments_lexer": "ipython3",
   "version": "3.9.23"
  }
 },
 "nbformat": 4,
 "nbformat_minor": 5
}
